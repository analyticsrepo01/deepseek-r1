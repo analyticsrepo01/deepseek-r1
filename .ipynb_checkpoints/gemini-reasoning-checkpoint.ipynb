{
 "cells": [
  {
   "cell_type": "code",
   "execution_count": null,
   "id": "58b03e70-d91c-4232-a2e2-c25e30dfdc50",
   "metadata": {
    "scrolled": true,
    "tags": []
   },
   "outputs": [],
   "source": [
    "!pip install --upgrade google-genai\n",
    "# gcloud auth application-default login"
   ]
  },
  {
   "cell_type": "code",
   "execution_count": 9,
   "id": "ea2daa3f-e2a0-4a24-b03e-d1e805b04c2d",
   "metadata": {
    "tags": []
   },
   "outputs": [],
   "source": [
    "from google import genai\n",
    "from google.genai import types\n",
    "import base64\n",
    "\n",
    "def generate():\n",
    "    client = genai.Client(\n",
    "      vertexai=True,\n",
    "      project=\"my-project-0004-346516\",\n",
    "      location=\"us-central1\"\n",
    "    )\n",
    "\n",
    "\n",
    "    model = \"gemini-2.0-flash-thinking-exp-01-21\"\n",
    "    contents = [\n",
    "    types.Content(\n",
    "      role=\"user\",\n",
    "      parts=[\n",
    "        types.Part.from_text(\"\"\"What is the difference between co-pay and co-insurance in health insurance?\"\"\")\n",
    "      ]\n",
    "    )\n",
    "    ]\n",
    "    generate_content_config = types.GenerateContentConfig(\n",
    "    temperature = 1,\n",
    "    top_p = 0.95,\n",
    "    max_output_tokens = 8192,\n",
    "    response_modalities = [\"TEXT\"],\n",
    "    safety_settings = [types.SafetySetting(\n",
    "      category=\"HARM_CATEGORY_HATE_SPEECH\",\n",
    "      threshold=\"OFF\"\n",
    "    ),types.SafetySetting(\n",
    "      category=\"HARM_CATEGORY_DANGEROUS_CONTENT\",\n",
    "      threshold=\"OFF\"\n",
    "    ),types.SafetySetting(\n",
    "      category=\"HARM_CATEGORY_SEXUALLY_EXPLICIT\",\n",
    "      threshold=\"OFF\"\n",
    "    ),types.SafetySetting(\n",
    "      category=\"HARM_CATEGORY_HARASSMENT\",\n",
    "      threshold=\"OFF\"\n",
    "    )],\n",
    "    )\n",
    "\n",
    "    response_text = client.models.generate_content(\n",
    "        model=model,\n",
    "        contents=contents,\n",
    "        config=generate_content_config,\n",
    "     )\n",
    "\n",
    "\n",
    "    # response = generate(text_input, image_uri, document_uri)\n",
    "    document_content = response_text.candidates[0].content.parts[0].text\n",
    "    \n",
    "    return(document_content)\n"
   ]
  },
  {
   "cell_type": "code",
   "execution_count": 12,
   "id": "67cca967-124f-488e-a4e9-260c30c5676b",
   "metadata": {
    "tags": []
   },
   "outputs": [
    {
     "name": "stdout",
     "output_type": "stream",
     "text": [
      "Time taken for prediction: 9.4005 seconds\n"
     ]
    }
   ],
   "source": [
    "import time\n",
    "\n",
    "# --- Start timing here ---\n",
    "start_time = time.time()\n",
    "\n",
    "result = generate()\n",
    "\n",
    "\n",
    "\n",
    "end_time = time.time()\n",
    "# --- End timing here ---\n",
    "\n",
    "elapsed_time = end_time - start_time\n",
    "print(f\"Time taken for prediction: {elapsed_time:.4f} seconds\")"
   ]
  },
  {
   "cell_type": "code",
   "execution_count": 13,
   "id": "113af813-aa63-4d6d-b99a-6ed880ef704f",
   "metadata": {
    "tags": []
   },
   "outputs": [
    {
     "data": {
      "text/plain": [
       "\"Copay and coinsurance are both cost-sharing mechanisms in health insurance, meaning they're ways you share the cost of healthcare with your insurance provider. However, they work differently:\\n\\n**Copay (Copayment):**\\n\\n* **Definition:** A **fixed dollar amount** you pay for a covered healthcare service, regardless of the total cost of that service.\\n* **Example:** You might have a $25 copay for a doctor's visit, a $50 copay for a specialist visit, or a $10 copay for a prescription.\\n* **Consistency:** The copay amount is usually the same each time you receive that specific service.\\n* **Predictability:** Copays make budgeting for healthcare expenses easier because the cost is consistent and known upfront.\\n* **Typically Used For:** Routine doctor's appointments, specialist visits, emergency room visits, and prescriptions.\\n\\n**Coinsurance:**\\n\\n* **Definition:** A **percentage of the cost** of a covered healthcare service that you are responsible for paying after you've met your deductible (if applicable).\\n* **Example:** Your insurance plan might have a 20% coinsurance for all services. If your medical bill is $1000, you'd pay $200 (20% of $1000), and your insurance would pay $800.\\n* **Variable Cost:** The amount you pay with coinsurance varies based on the total cost of the service. A more expensive procedure means a higher coinsurance payment.\\n* **Less Predictable:** It's harder to know your out-of-pocket cost with coinsurance until after you receive the service and the bill is processed.\\n* **Typically Used For:** More expensive medical procedures, surgeries, hospitalizations, and major medical events.\\n\\n**Here's a table summarizing the key differences:**\\n\\n| Feature       | Copay                                   | Coinsurance                            |\\n|---------------|-----------------------------------------|-----------------------------------------|\\n| **Definition** | Fixed dollar amount                       | Percentage of cost                       |\\n| **Amount**     | Consistent, predetermined amount         | Varies based on cost of service        |\\n| **Predictability**| Easier to budget, known upfront cost    | Less predictable, depends on service cost |\\n| **Common Uses**| Routine visits, prescriptions           | Major procedures, hospitalizations       |\\n\\n**Key Takeaways:**\\n\\n* **Think of copay as a flat fee, and coinsurance as a percentage of the bill.**\\n* **You may have both copays and coinsurance in the same insurance plan.** For example, you might have copays for doctor visits and coinsurance for hospital stays.\\n* **Your insurance plan details (summary of benefits) will clearly state the copays and coinsurance percentages for different services.**\\n* **Understanding your copays and coinsurance is crucial for budgeting healthcare expenses and avoiding unexpected medical bills.**\\n\\n**Example to Illustrate:**\\n\\nLet's say you visit your doctor:\\n\\n* **Scenario 1: Copay Only:** Your plan has a $30 copay for doctor visits. Your total bill is $150, but you only pay the $30 copay.\\n* **Scenario 2: Coinsurance Only:** Your plan has 20% coinsurance, and you've met your deductible. Your total bill is $150. You would pay $30 (20% of $150), and the insurance would pay $120.\\n* **Scenario 3: Both Copay and Coinsurance:** Your plan has a $30 copay for office visits and 20% coinsurance for other services. You have an office visit with some lab work. The visit itself is $100, and the lab work is $200, totaling $300. You'll pay $30 for the visit copay and 20% of the lab work, so $40, making your total out of pocket cost $70.\\n\\nUnderstanding the differences between copay and coinsurance helps you navigate your health insurance plan and anticipate your potential healthcare costs. Be sure to review your policy documents carefully and ask your insurance provider if you have any questions.\\n\""
      ]
     },
     "execution_count": 13,
     "metadata": {},
     "output_type": "execute_result"
    }
   ],
   "source": [
    "result"
   ]
  },
  {
   "cell_type": "code",
   "execution_count": null,
   "id": "38b9ba2a-4da5-4d9c-846f-9ef44cc649d2",
   "metadata": {},
   "outputs": [],
   "source": []
  }
 ],
 "metadata": {
  "environment": {
   "kernel": "conda-env-pytorch-pytorch",
   "name": "workbench-notebooks.m126",
   "type": "gcloud",
   "uri": "us-docker.pkg.dev/deeplearning-platform-release/gcr.io/workbench-notebooks:m126"
  },
  "kernelspec": {
   "display_name": "PyTorch 1-13 (Local)",
   "language": "python",
   "name": "conda-env-pytorch-pytorch"
  },
  "language_info": {
   "codemirror_mode": {
    "name": "ipython",
    "version": 3
   },
   "file_extension": ".py",
   "mimetype": "text/x-python",
   "name": "python",
   "nbconvert_exporter": "python",
   "pygments_lexer": "ipython3",
   "version": "3.10.15"
  }
 },
 "nbformat": 4,
 "nbformat_minor": 5
}
