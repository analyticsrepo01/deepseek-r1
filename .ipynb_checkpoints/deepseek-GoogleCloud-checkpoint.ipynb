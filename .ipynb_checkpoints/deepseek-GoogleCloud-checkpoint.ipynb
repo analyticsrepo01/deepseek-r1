{
 "cells": [
  {
   "cell_type": "markdown",
   "id": "057eedda-ed39-4937-8893-db6de53b186a",
   "metadata": {},
   "source": [
    "### Deepseek Inline "
   ]
  },
  {
   "cell_type": "code",
   "execution_count": null,
   "id": "12468093-e46c-4952-aaf0-89739c44eabb",
   "metadata": {},
   "outputs": [
    {
     "name": "stderr",
     "output_type": "stream",
     "text": [
      "/opt/conda/envs/pytorch/lib/python3.10/site-packages/torchvision/io/image.py:13: UserWarning: Failed to load image Python extension: libtorch_cuda_cu.so: cannot open shared object file: No such file or directory\n",
      "  warn(f\"Failed to load image Python extension: {e}\")\n"
     ]
    },
    {
     "data": {
      "application/vnd.jupyter.widget-view+json": {
       "model_id": "",
       "version_major": 2,
       "version_minor": 0
      },
      "text/plain": [
       "config.json:   0%|          | 0.00/679 [00:00<?, ?B/s]"
      ]
     },
     "metadata": {},
     "output_type": "display_data"
    },
    {
     "data": {
      "application/vnd.jupyter.widget-view+json": {
       "model_id": "",
       "version_major": 2,
       "version_minor": 0
      },
      "text/plain": [
       "model.safetensors:   0%|          | 0.00/3.55G [00:00<?, ?B/s]"
      ]
     },
     "metadata": {},
     "output_type": "display_data"
    },
    {
     "data": {
      "application/vnd.jupyter.widget-view+json": {
       "model_id": "",
       "version_major": 2,
       "version_minor": 0
      },
      "text/plain": [
       "generation_config.json:   0%|          | 0.00/181 [00:00<?, ?B/s]"
      ]
     },
     "metadata": {},
     "output_type": "display_data"
    },
    {
     "data": {
      "application/vnd.jupyter.widget-view+json": {
       "model_id": "",
       "version_major": 2,
       "version_minor": 0
      },
      "text/plain": [
       "tokenizer_config.json:   0%|          | 0.00/3.06k [00:00<?, ?B/s]"
      ]
     },
     "metadata": {},
     "output_type": "display_data"
    },
    {
     "data": {
      "application/vnd.jupyter.widget-view+json": {
       "model_id": "",
       "version_major": 2,
       "version_minor": 0
      },
      "text/plain": [
       "tokenizer.json:   0%|          | 0.00/7.03M [00:00<?, ?B/s]"
      ]
     },
     "metadata": {},
     "output_type": "display_data"
    },
    {
     "name": "stderr",
     "output_type": "stream",
     "text": [
      "Hardware accelerator e.g. GPU is available in the environment, but no `device` argument is passed to the `Pipeline` object. Model will be on CPU.\n",
      "/opt/conda/envs/pytorch/lib/python3.10/site-packages/transformers/generation/utils.py:1375: UserWarning: Using the model-agnostic default `max_length` (=20) to control the generation length. We recommend setting `max_new_tokens` to control the maximum length of the generation.\n",
      "  warnings.warn(\n"
     ]
    },
    {
     "data": {
      "text/plain": [
       "[{'generated_text': [{'role': 'user', 'content': 'How can you help me?'},\n",
       "   {'role': 'assistant',\n",
       "    'content': \"<think>\\n\\n</think>\\n\\nI'm sorry, but I cannot\"}]}]"
      ]
     },
     "execution_count": 1,
     "metadata": {},
     "output_type": "execute_result"
    }
   ],
   "source": [
    "### Use a pipeline as a high-level helper\n",
    "from transformers import pipeline\n",
    "\n",
    "messages = [\n",
    "    {\"role\": \"user\", \"content\": \"How can you help me?\"},\n",
    "]\n",
    "pipe = pipeline(\"text-generation\", model=\"deepseek-ai/DeepSeek-R1-Distill-Qwen-1.5B\")\n",
    "pipe(messages)"
   ]
  },
  {
   "cell_type": "code",
   "execution_count": 7,
   "id": "3095e6fe-1bd7-4552-8290-498812e2effc",
   "metadata": {
    "tags": []
   },
   "outputs": [
    {
     "data": {
      "text/plain": [
       "[{'generated_text': [{'role': 'user',\n",
       "    'content': 'you are good at writting stories ?'},\n",
       "   {'role': 'user', 'content': 'write a srort story?'},\n",
       "   {'role': 'assistant', 'content': '<think>\\n'}]}]"
      ]
     },
     "execution_count": 7,
     "metadata": {},
     "output_type": "execute_result"
    }
   ],
   "source": [
    "messages = [\n",
    "    {\"role\": \"user\", \"content\": \"you are good at writting stories ?\"},\n",
    "    {\"role\": \"user\", \"content\": \"write a srort story?\"}\n",
    "]\n",
    "\n",
    "pipe(messages)"
   ]
  },
  {
   "cell_type": "code",
   "execution_count": 26,
   "id": "ecdd0dc8-6449-43c9-a724-3e9430e5e36e",
   "metadata": {
    "tags": []
   },
   "outputs": [
    {
     "name": "stdout",
     "output_type": "stream",
     "text": [
      "What is the difference between co-pay and co-insurance in health insurance? I need to know the difference, not just the definitions.\n",
      "\n",
      "I need to know the difference between co-pay and co-insurance in health insurance. I need to know the difference, not just the definitions. I need to know the difference in the way that they are calculated and what they are used for. I need to know the difference in the way they are used in practice, not just definitions. I need to know the difference in the way that they are used in practice, not just definitions. I need to know the difference in the way that they are used in practice, not just definitions. I need to know the difference in the way that they are used in practice, not just definitions. I need to know the difference in the way that they are used in practice, not just definitions. I need to know the difference in the way that they are used in practice, not just definitions. I need to know the difference in the way that they are used in practice, not just definitions.\n"
     ]
    }
   ],
   "source": [
    "\n",
    "response = pipe(\n",
    "    # \"write a short  story to get a learning for a kid\",\n",
    "    \"What is the difference between co-pay and co-insurance in health insurance?\",\n",
    "    max_new_tokens=200,\n",
    "    num_return_sequences=1,\n",
    ")\n",
    "print(response[0]['generated_text'])"
   ]
  },
  {
   "cell_type": "markdown",
   "id": "07130258-37df-491b-91a3-ec35d70cba3d",
   "metadata": {},
   "source": [
    "### Deepseek Install as a Model garden endpoint "
   ]
  },
  {
   "cell_type": "code",
   "execution_count": null,
   "id": "57208902-8af0-4c1e-aabf-1a06dfc9ae7f",
   "metadata": {},
   "outputs": [],
   "source": [
    "# deepseek-ai/DeepSeek-R1-Distill-Llama-8B (Version 1)\n",
    "# This testing is based on 8B model"
   ]
  },
  {
   "cell_type": "code",
   "execution_count": null,
   "id": "583792bd-6f72-4509-b5c8-efffe33950cc",
   "metadata": {},
   "outputs": [],
   "source": [
    "from google.cloud import aiplatform\n",
    "#install this package if not Pre available"
   ]
  },
  {
   "cell_type": "code",
   "execution_count": 17,
   "id": "070bacd8-e4c2-468b-8828-655e5f0e180e",
   "metadata": {
    "tags": []
   },
   "outputs": [],
   "source": [
    "\n",
    "ENDPOINT_ID=\"PLEASE_ADD_ENDPOINT_ID_HERE\"  #--- ENTER your endpoint \n",
    "\n",
    "PROJECT_IDS = !(gcloud config get-value core/project)\n",
    "PROJECT_ID = PROJECT_IDS[0]  # @param {type:\"string\"}\n",
    "\n",
    "REGION = \"us-central1\"\n",
    "# INPUT_DATA_FILE=\"INPUT-JSON\""
   ]
  },
  {
   "cell_type": "code",
   "execution_count": 19,
   "id": "ee03bb83-2f43-4651-9a8b-0f4c12e9a831",
   "metadata": {
    "tags": []
   },
   "outputs": [
    {
     "name": "stdout",
     "output_type": "stream",
     "text": [
      "Initializing Vertex AI API.\n"
     ]
    }
   ],
   "source": [
    "print(\"Initializing Vertex AI API.\")\n",
    "aiplatform.init(project=PROJECT_ID, location=REGION)"
   ]
  },
  {
   "cell_type": "code",
   "execution_count": 20,
   "id": "4399c750-6379-4d5f-914d-984a28ba0d7b",
   "metadata": {
    "tags": []
   },
   "outputs": [
    {
     "name": "stdout",
     "output_type": "stream",
     "text": [
      "endpoint <google.cloud.aiplatform.models.Endpoint object at 0x7fc743697730> \n",
      "resource name: projects/255766800726/locations/us-central1/endpoints/8436043646041587712\n"
     ]
    }
   ],
   "source": [
    "# endpoint_name = \"\"  # @param {type:\"string\"}\n",
    "aip_endpoint_name = (\n",
    "    f\"projects/{PROJECT_ID}/locations/{REGION}/endpoints/{ENDPOINT_ID}\"\n",
    ")\n",
    "endpoint = aiplatform.Endpoint(aip_endpoint_name)\n",
    "print(\"endpoint\",endpoint)"
   ]
  },
  {
   "cell_type": "code",
   "execution_count": 21,
   "id": "cb882161-9609-4ec1-8394-402504ef58d6",
   "metadata": {
    "tags": []
   },
   "outputs": [],
   "source": [
    "prompt = \"What is the difference between co-pay and co-insurance in health insurance?\"  # @param {type: \"string\"}\n",
    "max_tokens = 200  # @param {type:\"integer\"}\n",
    "temperature = 1.0  # @param {type:\"number\"}\n",
    "top_p = 1.0  # @param {type:\"number\"}\n",
    "top_k = 1  # @param {type:\"integer\"}\n",
    "raw_response = False  # @param {type:\"boolean\"}"
   ]
  },
  {
   "cell_type": "code",
   "execution_count": 24,
   "id": "bdc4998f-26d0-44a7-917a-bb0604b37959",
   "metadata": {
    "tags": []
   },
   "outputs": [
    {
     "name": "stdout",
     "output_type": "stream",
     "text": [
      "Prompt:\n",
      "What is the difference between co-pay and co-insurance in health insurance?\n",
      "Output:\n",
      " I need to explain this in simple terms.\n",
      "\n",
      "Okay, so I need to figure out the difference between copay and coinsurance in health insurance. I'm a bit confused about these terms, but I'll try to break it down step by step.\n",
      "\n",
      "First, I remember that both copay and coinsurance are out-of-pocket costs you might have to pay when you go to the doctor or use medical services. But I'm not exactly sure how they differ. Let me think about what each one means.\n",
      "\n",
      "Copay, I think, is a fixed amount you pay each time you visit a healthcare provider. Like, maybe every time I go to the doctor, I have to pay $20 as a copay, regardless of how much the service costs. So it's a flat rate. That makes sense because it's a set amount, so it's predictable.\n",
      "\n",
      "On the other hand, coinsurance sounds a bit more complicated. I believe it's a percentage of the total cost of the service.\n"
     ]
    }
   ],
   "source": [
    "instances = [\n",
    "    {\n",
    "        \"prompt\": prompt,\n",
    "        \"max_tokens\": max_tokens,\n",
    "        \"temperature\": temperature,\n",
    "        \"top_p\": top_p,\n",
    "        \"top_k\": top_k,\n",
    "        \"raw_response\": raw_response,\n",
    "    },\n",
    "]\n",
    "response = endpoint.predict(instances=instances)\n",
    "\n",
    "for prediction in response.predictions:\n",
    "    print(prediction)\n"
   ]
  },
  {
   "cell_type": "code",
   "execution_count": 25,
   "id": "972af60e-c77b-4e18-93c0-21ba2ddf4a52",
   "metadata": {
    "tags": []
   },
   "outputs": [
    {
     "name": "stdout",
     "output_type": "stream",
     "text": [
      "Prompt:\n",
      "What is the difference between co-pay and co-insurance in health insurance?\n",
      "Output:\n",
      " I need to explain this in simple terms.\n",
      "\n",
      "Okay, so I need to figure out the difference between copay and coinsurance in health insurance. I'm a bit confused about these terms, but I'll try to break it down step by step.\n",
      "\n",
      "First, I remember that both copay and coinsurance are out-of-pocket costs you might have to pay when you go to the doctor or use medical services. But I'm not exactly sure how they differ. Let me think about what each one means.\n",
      "\n",
      "Copay, I think, is a fixed amount you pay each time you visit a healthcare provider. Like, maybe every time I go to the doctor, I have to pay $20 as a copay, regardless of how much the service costs. So it's a flat rate. That makes sense because it's a set amount, so it's predictable. But I'm not 100% sure if it's always per visit or if it can be per type of service. Maybe it's\n",
      "Time taken for prediction: 8.0525 seconds\n"
     ]
    }
   ],
   "source": [
    "import time\n",
    "\n",
    "# --- Start timing here ---\n",
    "start_time = time.time()\n",
    "\n",
    "response = endpoint.predict(instances=instances)\n",
    "\n",
    "for prediction in response.predictions:\n",
    "    print(prediction)\n",
    "\n",
    "end_time = time.time()\n",
    "# --- End timing here ---\n",
    "\n",
    "elapsed_time = end_time - start_time\n",
    "print(f\"Time taken for prediction: {elapsed_time:.4f} seconds\")"
   ]
  },
  {
   "cell_type": "markdown",
   "id": "d4baae23-7723-49a1-ba55-fbedcb21e75f",
   "metadata": {},
   "source": [
    "### Testing 70B model"
   ]
  },
  {
   "cell_type": "code",
   "execution_count": 28,
   "id": "d11c8510-5472-452b-8ee1-14597e9765b1",
   "metadata": {
    "tags": []
   },
   "outputs": [],
   "source": [
    "\n",
    "ENDPOINT_ID=\"1534840167049723904\"  #--- ENTER your endpoint \n",
    "\n",
    "PROJECT_IDS = !(gcloud config get-value core/project)\n",
    "PROJECT_ID = PROJECT_IDS[0]  # @param {type:\"string\"}\n",
    "\n",
    "REGION = \"us-central1\"\n",
    "# INPUT_DATA_FILE=\"INPUT-JSON\""
   ]
  },
  {
   "cell_type": "code",
   "execution_count": 29,
   "id": "ec0a86de-1a1a-42bc-becd-4133ee948c66",
   "metadata": {},
   "outputs": [
    {
     "name": "stdout",
     "output_type": "stream",
     "text": [
      "endpoint <google.cloud.aiplatform.models.Endpoint object at 0x7fc7439a13f0> \n",
      "resource name: projects/255766800726/locations/us-central1/endpoints/1534840167049723904\n"
     ]
    }
   ],
   "source": [
    "# endpoint_name = \"\"  # @param {type:\"string\"}\n",
    "aip_endpoint_name = (\n",
    "    f\"projects/{PROJECT_ID}/locations/{REGION}/endpoints/{ENDPOINT_ID}\"\n",
    ")\n",
    "endpoint = aiplatform.Endpoint(aip_endpoint_name)\n",
    "print(\"endpoint\",endpoint)"
   ]
  },
  {
   "cell_type": "code",
   "execution_count": 30,
   "id": "0fe939c1-9ec2-4f56-b198-ce3a029c2fd0",
   "metadata": {},
   "outputs": [],
   "source": [
    "prompt = \"What is the difference between co-pay and co-insurance in health insurance?\"  # @param {type: \"string\"}\n",
    "max_tokens = 200  # @param {type:\"integer\"}\n",
    "temperature = 1.0  # @param {type:\"number\"}\n",
    "top_p = 1.0  # @param {type:\"number\"}\n",
    "top_k = 1  # @param {type:\"integer\"}\n",
    "raw_response = False  # @param {type:\"boolean\"}"
   ]
  },
  {
   "cell_type": "code",
   "execution_count": 31,
   "id": "252076e1-dd4b-4b53-8f87-48ac9d9eea1e",
   "metadata": {},
   "outputs": [
    {
     "name": "stdout",
     "output_type": "stream",
     "text": [
      "Prompt:\n",
      "What is the difference between co-pay and co-insurance in health insurance?\n",
      "Output:\n",
      " | Health\n",
      "Co-pay and co-insurance are both types of cost-sharing in health insurance plans, but they work differently. Here's how they differ:\n",
      "\n",
      "### Co-pay (Copayment)\n",
      "- **Definition**: A fixed amount you pay for a specific healthcare service, usually at the time of service.\n",
      "- **Example**: You might pay a $25 co-pay for a doctor visit or a $10 co-pay for a prescription.\n",
      "- **When Applied**: Typically applies to services like office visits, prescriptions, or urgent care.\n",
      "- **No Percentage**: It's a flat fee, not based on a percentage of costs.\n",
      "- **Predictable**: Makes budgeting easier since you know exactly how much you'll pay.\n",
      "\n",
      "### Co-insurance\n",
      "- **Definition**: A percentage of healthcare costs that you pay after meeting your deductible.\n",
      "- **Example**: If your plan has 20% co-insurance for hospital stays, you pay 20% of the bill, and your insurance pays 80%.\n",
      "-\n"
     ]
    }
   ],
   "source": [
    "instances = [\n",
    "    {\n",
    "        \"prompt\": prompt,\n",
    "        \"max_tokens\": max_tokens,\n",
    "        \"temperature\": temperature,\n",
    "        \"top_p\": top_p,\n",
    "        \"top_k\": top_k,\n",
    "        \"raw_response\": raw_response,\n",
    "    },\n",
    "]\n",
    "\n"
   ]
  },
  {
   "cell_type": "code",
   "execution_count": 32,
   "id": "bf77d5f2-ed83-4f79-9a93-c789afe104de",
   "metadata": {
    "tags": []
   },
   "outputs": [
    {
     "name": "stdout",
     "output_type": "stream",
     "text": [
      "Prompt:\n",
      "What is the difference between co-pay and co-insurance in health insurance?\n",
      "Output:\n",
      " | Health\n",
      "Co-pay and co-insurance are both types of cost-sharing in health insurance plans, but they work differently. Here's how they differ:\n",
      "\n",
      "### Co-pay (Copayment)\n",
      "- **Definition**: A fixed amount you pay for a specific healthcare service, usually at the time of service.\n",
      "- **Example**: You might pay a $25 co-pay for a doctor visit or a $10 co-pay for a prescription.\n",
      "- **When Applied**: Typically applies to services like office visits, prescriptions, or urgent care.\n",
      "- **No Percentage**: It's a flat fee, not based on a percentage of costs.\n",
      "- **Predictable**: Makes budgeting easier since you know exactly how much you'll pay.\n",
      "\n",
      "### Co-insurance\n",
      "- **Definition**: A percentage of healthcare costs that you pay after meeting your deductible.\n",
      "- **Example**: If your plan has 20% co-insurance for hospital stays, you pay 20% of the bill, and insurance pays 80%.\n",
      "- **\n",
      "Time taken for prediction: 18.9465 seconds\n"
     ]
    }
   ],
   "source": [
    "import time\n",
    "\n",
    "# --- Start timing here ---\n",
    "start_time = time.time()\n",
    "\n",
    "response = endpoint.predict(instances=instances)\n",
    "\n",
    "for prediction in response.predictions:\n",
    "    print(prediction)\n",
    "\n",
    "end_time = time.time()\n",
    "# --- End timing here ---\n",
    "\n",
    "elapsed_time = end_time - start_time\n",
    "print(f\"Time taken for prediction: {elapsed_time:.4f} seconds\")"
   ]
  }
 ],
 "metadata": {
  "environment": {
   "kernel": "conda-env-pytorch-pytorch",
   "name": "workbench-notebooks.m126",
   "type": "gcloud",
   "uri": "us-docker.pkg.dev/deeplearning-platform-release/gcr.io/workbench-notebooks:m126"
  },
  "kernelspec": {
   "display_name": "PyTorch 1-13 (Local)",
   "language": "python",
   "name": "conda-env-pytorch-pytorch"
  },
  "language_info": {
   "codemirror_mode": {
    "name": "ipython",
    "version": 3
   },
   "file_extension": ".py",
   "mimetype": "text/x-python",
   "name": "python",
   "nbconvert_exporter": "python",
   "pygments_lexer": "ipython3",
   "version": "3.10.15"
  }
 },
 "nbformat": 4,
 "nbformat_minor": 5
}
