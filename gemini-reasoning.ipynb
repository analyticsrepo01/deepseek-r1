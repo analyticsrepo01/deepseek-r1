{
 "cells": [
  {
   "cell_type": "code",
   "execution_count": 1,
   "id": "58b03e70-d91c-4232-a2e2-c25e30dfdc50",
   "metadata": {
    "scrolled": true,
    "tags": []
   },
   "outputs": [
    {
     "name": "stdout",
     "output_type": "stream",
     "text": [
      "Requirement already satisfied: google-genai in /opt/conda/envs/pytorch/lib/python3.10/site-packages (0.6.0)\n",
      "Requirement already satisfied: google-auth<3.0.0dev,>=2.14.1 in /opt/conda/envs/pytorch/lib/python3.10/site-packages (from google-genai) (2.36.0)\n",
      "Requirement already satisfied: pillow<12.0.0,>=10.0.0 in /opt/conda/envs/pytorch/lib/python3.10/site-packages (from google-genai) (11.0.0)\n",
      "Requirement already satisfied: pydantic<3.0.0dev,>=2.0.0 in /opt/conda/envs/pytorch/lib/python3.10/site-packages (from google-genai) (2.9.2)\n",
      "Requirement already satisfied: requests<3.0.0dev,>=2.28.1 in /opt/conda/envs/pytorch/lib/python3.10/site-packages (from google-genai) (2.32.3)\n",
      "Requirement already satisfied: websockets<15.0dev,>=13.0 in /opt/conda/envs/pytorch/lib/python3.10/site-packages (from google-genai) (14.1)\n",
      "Requirement already satisfied: cachetools<6.0,>=2.0.0 in /opt/conda/envs/pytorch/lib/python3.10/site-packages (from google-auth<3.0.0dev,>=2.14.1->google-genai) (5.5.0)\n",
      "Requirement already satisfied: pyasn1-modules>=0.2.1 in /opt/conda/envs/pytorch/lib/python3.10/site-packages (from google-auth<3.0.0dev,>=2.14.1->google-genai) (0.4.1)\n",
      "Requirement already satisfied: rsa<5,>=3.1.4 in /opt/conda/envs/pytorch/lib/python3.10/site-packages (from google-auth<3.0.0dev,>=2.14.1->google-genai) (4.9)\n",
      "Requirement already satisfied: annotated-types>=0.6.0 in /opt/conda/envs/pytorch/lib/python3.10/site-packages (from pydantic<3.0.0dev,>=2.0.0->google-genai) (0.7.0)\n",
      "Requirement already satisfied: pydantic-core==2.23.4 in /opt/conda/envs/pytorch/lib/python3.10/site-packages (from pydantic<3.0.0dev,>=2.0.0->google-genai) (2.23.4)\n",
      "Requirement already satisfied: typing-extensions>=4.6.1 in /opt/conda/envs/pytorch/lib/python3.10/site-packages (from pydantic<3.0.0dev,>=2.0.0->google-genai) (4.12.2)\n",
      "Requirement already satisfied: charset-normalizer<4,>=2 in /opt/conda/envs/pytorch/lib/python3.10/site-packages (from requests<3.0.0dev,>=2.28.1->google-genai) (3.4.0)\n",
      "Requirement already satisfied: idna<4,>=2.5 in /opt/conda/envs/pytorch/lib/python3.10/site-packages (from requests<3.0.0dev,>=2.28.1->google-genai) (3.10)\n",
      "Requirement already satisfied: urllib3<3,>=1.21.1 in /opt/conda/envs/pytorch/lib/python3.10/site-packages (from requests<3.0.0dev,>=2.28.1->google-genai) (1.26.20)\n",
      "Requirement already satisfied: certifi>=2017.4.17 in /opt/conda/envs/pytorch/lib/python3.10/site-packages (from requests<3.0.0dev,>=2.28.1->google-genai) (2024.8.30)\n",
      "Requirement already satisfied: pyasn1<0.7.0,>=0.4.6 in /opt/conda/envs/pytorch/lib/python3.10/site-packages (from pyasn1-modules>=0.2.1->google-auth<3.0.0dev,>=2.14.1->google-genai) (0.6.1)\n"
     ]
    }
   ],
   "source": [
    "!pip install --upgrade google-genai\n",
    "# gcloud auth application-default login"
   ]
  },
  {
   "cell_type": "code",
   "execution_count": 2,
   "id": "ea2daa3f-e2a0-4a24-b03e-d1e805b04c2d",
   "metadata": {
    "tags": []
   },
   "outputs": [],
   "source": [
    "from google import genai\n",
    "from google.genai import types\n",
    "import base64\n",
    "\n",
    "def generate():\n",
    "    client = genai.Client(\n",
    "      vertexai=True,\n",
    "      project=\"my-project-0004-346516\",\n",
    "      location=\"us-central1\"\n",
    "    )\n",
    "\n",
    "\n",
    "    model = \"gemini-2.0-flash-thinking-exp-01-21\"\n",
    "    contents = [\n",
    "    types.Content(\n",
    "      role=\"user\",\n",
    "      parts=[\n",
    "        types.Part.from_text(\"\"\"What is the difference between co-pay and co-insurance in health insurance?\"\"\")\n",
    "      ]\n",
    "    )\n",
    "    ]\n",
    "    generate_content_config = types.GenerateContentConfig(\n",
    "    temperature = 1,\n",
    "    top_p = 0.95,\n",
    "    max_output_tokens = 8192,\n",
    "    response_modalities = [\"TEXT\"],\n",
    "    safety_settings = [types.SafetySetting(\n",
    "      category=\"HARM_CATEGORY_HATE_SPEECH\",\n",
    "      threshold=\"OFF\"\n",
    "    ),types.SafetySetting(\n",
    "      category=\"HARM_CATEGORY_DANGEROUS_CONTENT\",\n",
    "      threshold=\"OFF\"\n",
    "    ),types.SafetySetting(\n",
    "      category=\"HARM_CATEGORY_SEXUALLY_EXPLICIT\",\n",
    "      threshold=\"OFF\"\n",
    "    ),types.SafetySetting(\n",
    "      category=\"HARM_CATEGORY_HARASSMENT\",\n",
    "      threshold=\"OFF\"\n",
    "    )],\n",
    "    )\n",
    "\n",
    "    response_text = client.models.generate_content(\n",
    "        model=model,\n",
    "        contents=contents,\n",
    "        config=generate_content_config,\n",
    "     )\n",
    "\n",
    "\n",
    "    # response = generate(text_input, image_uri, document_uri)\n",
    "    document_content = response_text.candidates[0].content.parts[0].text\n",
    "    \n",
    "    return(document_content)\n"
   ]
  },
  {
   "cell_type": "code",
   "execution_count": 3,
   "id": "67cca967-124f-488e-a4e9-260c30c5676b",
   "metadata": {
    "tags": []
   },
   "outputs": [
    {
     "name": "stdout",
     "output_type": "stream",
     "text": [
      "Time taken for prediction: 12.8722 seconds\n"
     ]
    }
   ],
   "source": [
    "import time\n",
    "\n",
    "# --- Start timing here ---\n",
    "start_time = time.time()\n",
    "\n",
    "result = generate()\n",
    "\n",
    "\n",
    "\n",
    "end_time = time.time()\n",
    "# --- End timing here ---\n",
    "\n",
    "elapsed_time = end_time - start_time\n",
    "print(f\"Time taken for prediction: {elapsed_time:.4f} seconds\")"
   ]
  },
  {
   "cell_type": "code",
   "execution_count": 4,
   "id": "113af813-aa63-4d6d-b99a-6ed880ef704f",
   "metadata": {
    "tags": []
   },
   "outputs": [
    {
     "data": {
      "text/plain": [
       "'The terms \"co-pay\" and \"co-insurance\" both refer to **cost-sharing mechanisms** in health insurance, meaning they are the portions of your healthcare costs that you, the insured person, are responsible for paying.  However, they differ significantly in *how* they are calculated and applied.\\n\\nHere\\'s a breakdown of the differences:\\n\\n**Co-pay (or Copayment):**\\n\\n* **Definition:** A **fixed dollar amount** you pay for a specific healthcare service each time you receive it.\\n* **Mechanism:** It\\'s a **flat fee** that doesn\\'t change based on the total cost of the service.  Think of it like a set fee for each visit or service.\\n* **Examples:**\\n    * A $25 co-pay for every doctor\\'s office visit.\\n    * A $10 co-pay for each prescription refill.\\n    * A $50 co-pay for a specialist visit.\\n* **Predictability:** Co-pays are **highly predictable**. You know exactly how much you\\'ll pay for each type of service upfront.\\n* **Cost Impact:**  Generally, co-pays are **lower for routine services** and might be higher for specialist visits or emergency room visits.  They are typically **not affected by the overall cost** of the service.\\n* **When it applies:** Co-pays usually apply **after you\\'ve met your deductible** (if your plan has one), but some plans may have co-pays that apply even before the deductible is met for certain services like primary care visits. **It\\'s crucial to check your specific plan details.**\\n\\n**Co-insurance:**\\n\\n* **Definition:** A **percentage** of the cost of a covered healthcare service that you pay **after you\\'ve met your deductible**.\\n* **Mechanism:**  It\\'s a **percentage split** between you and your insurance company.  You pay a fixed *portion* of the *total cost* of the service.\\n* **Examples:**\\n    * 20% co-insurance for medical procedures.\\n    * 10% co-insurance for hospital stays.\\n    * 30% co-insurance for outpatient surgery.\\n* **Predictability:** Co-insurance is **less predictable** than co-pays because the amount you pay depends on the *total cost* of the service.  More expensive services will result in higher co-insurance costs.\\n* **Cost Impact:** Co-insurance can be **more expensive than co-pays, especially for expensive medical procedures, hospitalizations, or surgeries**.  Your share of the cost is directly proportional to the total cost of the service.\\n* **When it applies:** Co-insurance **always applies after you have met your deductible**. Once you\\'ve paid your deductible, you\\'ll start paying co-insurance for covered services until you reach your **out-of-pocket maximum**.\\n\\n**Here\\'s a table summarizing the key differences:**\\n\\n| Feature           | Co-pay                                    | Co-insurance                                    |\\n|--------------------|--------------------------------------------|-------------------------------------------------|\\n| **Type of Charge** | Fixed dollar amount                      | Percentage of the cost                           |\\n| **Calculation**   | Set amount per service                     | Percentage of the total cost of the service       |\\n| **Predictability**| Highly predictable                        | Less predictable                                 |\\n| **Cost Impact**    | Generally lower, especially for routine care | Can be higher, especially for expensive services |\\n| **Applies After**   | Sometimes after deductible, sometimes before (check plan) | Always after deductible                           |\\n\\n**Analogy to Help Understand:**\\n\\nImagine you\\'re ordering food at two different types of restaurants:\\n\\n* **Co-pay:** Think of a **fast-food restaurant** with a **set menu price**. You know exactly how much a burger or fries costs *regardless of other factors*.  This is like a co-pay - a fixed price for a specific service.\\n\\n* **Co-insurance:** Think of a **nice restaurant where you split the bill with friends**. You agree to pay **20% of the total bill**. If the bill is high, your share is high; if the bill is low, your share is low. This is like co-insurance - a percentage of the total cost.\\n\\n**Which is better?**\\n\\nNeither co-pay nor co-insurance is inherently \"better.\"  The \"better\" option depends on your individual healthcare needs and financial situation:\\n\\n* **Plans with higher co-pays and lower co-insurance** are often good for people who use healthcare services frequently, especially for routine care (doctor visits, prescriptions). You\\'ll have predictable, lower out-of-pocket costs for these frequent services.\\n* **Plans with lower co-pays and higher co-insurance** might be better for people who are generally healthy and don\\'t expect to use healthcare services frequently, or who are concerned about potential high costs from unexpected, expensive medical events (like hospitalizations). You\\'ll pay less for routine visits but a higher percentage if you need major care.\\n\\n**Important Considerations:**\\n\\n* **Deductible:** Remember that both co-pays and co-insurance are often linked to your **deductible**. You usually need to meet your deductible before co-insurance kicks in, and sometimes before co-pays kick in as well.\\n* **Out-of-Pocket Maximum:** Most plans also have an **out-of-pocket maximum**. This is the most you\\'ll pay in total for covered healthcare services in a plan year (including deductibles, co-pays, and co-insurance). Once you reach this limit, your insurance will pay 100% of covered services for the rest of the year.\\n* **Plan Details:** Always **carefully review your specific health insurance plan documents** to understand the co-pay and co-insurance amounts for different services, as well as your deductible and out-of-pocket maximum. These details can vary significantly between plans.\\n\\nBy understanding the difference between co-pay and co-insurance, you can make more informed decisions when choosing a health insurance plan that best suits your needs and budget.'"
      ]
     },
     "execution_count": 4,
     "metadata": {},
     "output_type": "execute_result"
    }
   ],
   "source": [
    "result"
   ]
  }
 ],
 "metadata": {
  "environment": {
   "kernel": "conda-env-pytorch-pytorch",
   "name": "workbench-notebooks.m126",
   "type": "gcloud",
   "uri": "us-docker.pkg.dev/deeplearning-platform-release/gcr.io/workbench-notebooks:m126"
  },
  "kernelspec": {
   "display_name": "PyTorch 1-13 (Local)",
   "language": "python",
   "name": "conda-env-pytorch-pytorch"
  },
  "language_info": {
   "codemirror_mode": {
    "name": "ipython",
    "version": 3
   },
   "file_extension": ".py",
   "mimetype": "text/x-python",
   "name": "python",
   "nbconvert_exporter": "python",
   "pygments_lexer": "ipython3",
   "version": "3.10.15"
  }
 },
 "nbformat": 4,
 "nbformat_minor": 5
}
